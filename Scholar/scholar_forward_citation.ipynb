{
 "cells": [
  {
   "cell_type": "markdown",
   "id": "61c6d6ab",
   "metadata": {},
   "source": [
    "# Imports and parameters"
   ]
  },
  {
   "cell_type": "code",
   "execution_count": 79,
   "id": "8c2c8e57",
   "metadata": {},
   "outputs": [],
   "source": [
    "from __future__ import annotations\n",
    "import time, os\n",
    "from typing import Dict, List, Tuple, Optional\n",
    "from urllib.parse import quote_plus\n",
    "\n",
    "import requests\n",
    "import pandas as pd\n",
    "import networkx as nx\n",
    "from tqdm.auto import tqdm\n",
    "\n",
    "import math\n",
    "import matplotlib.pyplot as plt\n",
    "import networkx as nx\n",
    "\n",
    "from pyvis.network import Network\n",
    "import math"
   ]
  },
  {
   "cell_type": "code",
   "execution_count": 80,
   "id": "e5aa74ce",
   "metadata": {},
   "outputs": [],
   "source": [
    "S2_BASE = \"https://api.semanticscholar.org/graph/v1\"\n",
    "S2_SLEEP_S = 10  # adjust if you hit 429s; unauthenticated is ~100 req/5 min\n",
    "S2_API_KEY = os.getenv(\"S2_API_KEY\")  # optional; set for higher limits"
   ]
  },
  {
   "cell_type": "markdown",
   "id": "24aa0456",
   "metadata": {},
   "source": [
    "# Main functions"
   ]
  },
  {
   "cell_type": "code",
   "execution_count": 81,
   "id": "cd62fdb5",
   "metadata": {},
   "outputs": [],
   "source": [
    "def s2_request(path: str, params: Dict) -> Dict:\n",
    "    url = f\"{S2_BASE}/{path.lstrip('/')}\"\n",
    "    headers = {}\n",
    "    if S2_API_KEY:\n",
    "        headers[\"x-api-key\"] = S2_API_KEY\n",
    "    r = requests.get(url, params=params, headers=headers, timeout=60)\n",
    "    if r.status_code == 429:\n",
    "        # simple backoff\n",
    "        time.sleep(max(S2_SLEEP_S * 4, 2.0))\n",
    "        r = requests.get(url, params=params, headers=headers, timeout=60)\n",
    "    r.raise_for_status()\n",
    "    return r.json()\n",
    "\n",
    "def resolve_seed(seed: str) -> Dict:\n",
    "    \"\"\"\n",
    "    Return minimal paper dict {paperId,title,year,doi,venue} for:\n",
    "      - DOI like '10.1038/nature12373'\n",
    "      - Semantic Scholar paperId like 'arXiv:1706.03762' or a 40-char S2 ID\n",
    "      - Title/keywords (falls back to search, picks top hit)\n",
    "    \"\"\"\n",
    "    fields = \"paperId,title,year,externalIds,venue\"\n",
    "    s = seed.strip()\n",
    "    # DOI?\n",
    "    if s.lower().startswith(\"10.\"):\n",
    "        pid = f\"DOI:{s}\"\n",
    "        return s2_request(f\"paper/{quote_plus(pid)}\", {\"fields\": fields})\n",
    "    # Looks like S2 paper id? (heuristic)\n",
    "    if len(s) >= 10 and \":\" in s or len(s) == 40:\n",
    "        return s2_request(f\"paper/{quote_plus(s)}\", {\"fields\": fields})\n",
    "    # Otherwise search by title/keywords\n",
    "    data = s2_request(\"paper/search\", {\"query\": s, \"limit\": 1, \"fields\": fields})\n",
    "    results = data.get(\"data\", [])\n",
    "    if not results:\n",
    "        raise ValueError(f\"No Semantic Scholar match for {seed!r}\")\n",
    "    return results[0]\n"
   ]
  },
  {
   "cell_type": "code",
   "execution_count": 82,
   "id": "53fd7999",
   "metadata": {},
   "outputs": [],
   "source": [
    "def s2_list_citers(paper_id: str,\n",
    "                   since: Optional[int]=None,\n",
    "                   until: Optional[int]=None,\n",
    "                   limit: int = 1000) -> List[Dict]:\n",
    "    \"\"\"\n",
    "    Returns a list of citing paper dicts with fields:\n",
    "      {paperId,title,year,externalIds,venue,citationCount}\n",
    "    \"\"\"\n",
    "    fields = \"citingPaper.paperId,citingPaper.title,citingPaper.year,citingPaper.externalIds,citingPaper.venue,citingPaper.citationCount\"\n",
    "    params = {\"fields\": fields, \"limit\": min(limit, 1000), \"offset\": 0}\n",
    "    out: List[Dict] = []\n",
    "\n",
    "    while True:\n",
    "        data = s2_request(f\"paper/{quote_plus(paper_id)}/citations\", params)\n",
    "        items = data.get(\"data\", [])\n",
    "        for it in items:\n",
    "            cp = it.get(\"citingPaper\") or {}\n",
    "            y = cp.get(\"year\")\n",
    "            if since is not None and (y is None or y < since): \n",
    "                continue\n",
    "            if until is not None and (y is None or y > until):\n",
    "                continue\n",
    "            out.append(cp)\n",
    "        if len(items) < params[\"limit\"]:\n",
    "            break\n",
    "        params[\"offset\"] += params[\"limit\"]\n",
    "        time.sleep(S2_SLEEP_S)\n",
    "    return out\n"
   ]
  },
  {
   "cell_type": "markdown",
   "id": "00a0c4b7",
   "metadata": {},
   "source": [
    "# Helper functions"
   ]
  },
  {
   "cell_type": "code",
   "execution_count": null,
   "id": "08c094b4",
   "metadata": {},
   "outputs": [],
   "source": [
    "def s2_forward_graph(seed: str,\n",
    "                     depth: int = 1,\n",
    "                     since: Optional[int] = None,\n",
    "                     until: Optional[int] = None,\n",
    "                     max_nodes: int = 1000,\n",
    "                     progress: bool = True) -> nx.DiGraph:\n",
    "    \"\"\"\n",
    "    DiGraph with edge A -> B meaning \"B cites A\" (forward).\n",
    "    \"\"\"\n",
    "    seed_meta = resolve_seed(seed)\n",
    "    G = nx.DiGraph()\n",
    "    seen: set[str] = set()\n",
    "    queue: List[Tuple[Dict, int]] = [(seed_meta, depth)]\n",
    "\n",
    "    pbar = tqdm(disable=not progress, total=None, desc=\"Traversing\")\n",
    "\n",
    "    while queue and G.number_of_nodes() < max_nodes:\n",
    "        current, dleft = queue.pop(0)\n",
    "        pid = current[\"paperId\"]\n",
    "        if pid in seen:\n",
    "            continue\n",
    "        seen.add(pid)\n",
    "\n",
    "        # add current node\n",
    "        G.add_node(\n",
    "            pid,\n",
    "            title=current.get(\"title\"),\n",
    "            year=current.get(\"year\"),\n",
    "            doi=(current.get(\"externalIds\") or {}).get(\"DOI\", \"\"),\n",
    "            venue=current.get(\"venue\") or \"\",\n",
    "            cited_by_count=current.get(\"citationCount\", None),\n",
    "        )\n",
    "\n",
    "        if dleft <= 0:\n",
    "            pbar.update(1); continue\n",
    "\n",
    "        # get forward citers\n",
    "        try:\n",
    "            citers = s2_list_citers(pid, since=since, until=until)\n",
    "        except Exception as e:\n",
    "            print(f\"[WARN] citers failed for {pid}: {e}\")\n",
    "            pbar.update(1); continue\n",
    "\n",
    "        for cp in citers:\n",
    "            cpid = cp.get(\"paperId\")\n",
    "            if not cpid:\n",
    "                continue\n",
    "            if cpid not in G:\n",
    "                G.add_node(\n",
    "                    cpid,\n",
    "                    title=cp.get(\"title\"),\n",
    "                    year=cp.get(\"year\"),\n",
    "                    doi=(cp.get(\"externalIds\") or {}).get(\"DOI\", \"\"),\n",
    "                    venue=cp.get(\"venue\") or \"\",\n",
    "                    cited_by_count=cp.get(\"citationCount\", None),\n",
    "                )\n",
    "            if not G.has_edge(pid, cpid):\n",
    "                G.add_edge(pid, cpid)\n",
    "\n",
    "        # enqueue next layer\n",
    "        for cp in citers:\n",
    "            cpid = cp.get(\"paperId\")\n",
    "            if cpid and cpid not in seen and G.number_of_nodes() < max_nodes:\n",
    "                queue.append((cp, dleft - 1))\n",
    "\n",
    "        pbar.update(1)\n",
    "        time.sleep(S2_SLEEP_S)\n",
    "\n",
    "    pbar.close()\n",
    "    return G\n"
   ]
  },
  {
   "cell_type": "markdown",
   "id": "3ee41b35",
   "metadata": {},
   "source": [
    "# Convert and store function"
   ]
  },
  {
   "cell_type": "code",
   "execution_count": 84,
   "id": "88f5de97",
   "metadata": {},
   "outputs": [],
   "source": [
    "def graph_to_dfs(G: nx.DiGraph):\n",
    "    nodes = [{\n",
    "        \"id\": nid,\n",
    "        \"title\": d.get(\"title\"),\n",
    "        \"year\": d.get(\"year\"),\n",
    "        \"doi\": d.get(\"doi\"),\n",
    "        \"venue\": d.get(\"venue\"),\n",
    "        \"cited_by_count\": d.get(\"cited_by_count\"),\n",
    "    } for nid, d in G.nodes(data=True)]\n",
    "    edges = [{\"source\": u, \"target\": v} for u, v in G.edges()]\n",
    "    return pd.DataFrame(nodes), pd.DataFrame(edges)\n",
    "\n",
    "def save_graph(G, prefix=\"s2_forward\"):\n",
    "    import networkx as nx\n",
    "    import pandas as pd\n",
    "\n",
    "    # to CSVs\n",
    "    ndf = pd.DataFrame([\n",
    "        {\"id\": nid,\n",
    "         \"title\": d.get(\"title\"),\n",
    "         \"year\": d.get(\"year\"),\n",
    "         \"doi\": d.get(\"doi\"),\n",
    "         \"venue\": d.get(\"venue\"),\n",
    "         \"cited_by_count\": (0 if d.get(\"cited_by_count\") is None else d.get(\"cited_by_count\"))}\n",
    "        for nid, d in G.nodes(data=True)\n",
    "    ])\n",
    "    edf = pd.DataFrame([{\"source\": u, \"target\": v} for u, v in G.edges()])\n",
    "    ndf.to_csv(f\"{prefix}_nodes.csv\", index=False)\n",
    "    edf.to_csv(f\"{prefix}_edges.csv\", index=False)\n",
    "\n",
    "    # sanitize a copy for GEXF\n",
    "    H = G.copy()\n",
    "    for _, d in H.nodes(data=True):\n",
    "        for k, v in list(d.items()):\n",
    "            if v is None:\n",
    "                d[k] = \"\"\n",
    "            elif isinstance(v, (list, dict, set, tuple)):\n",
    "                d[k] = str(v)\n",
    "    for _, _, d in H.edges(data=True):\n",
    "        for k, v in list(d.items()):\n",
    "            if v is None:\n",
    "                d[k] = \"\"\n",
    "            elif isinstance(v, (list, dict, set, tuple)):\n",
    "                d[k] = str(v)\n",
    "    for k, v in list(H.graph.items()):\n",
    "        if v is None:\n",
    "            H.graph[k] = \"\"\n",
    "        elif isinstance(v, (list, dict, set, tuple)):\n",
    "            H.graph[k] = str(v)\n",
    "\n",
    "    nx.write_gexf(H, f\"{prefix}.gexf\")\n",
    "    print(f\"Saved: {prefix}_nodes.csv, {prefix}_edges.csv, {prefix}.gexf\")\n",
    "\n"
   ]
  },
  {
   "cell_type": "markdown",
   "id": "3638af00",
   "metadata": {},
   "source": [
    "# Run it"
   ]
  },
  {
   "cell_type": "code",
   "execution_count": 85,
   "id": "87d8276e",
   "metadata": {},
   "outputs": [],
   "source": [
    "# Optionally set a key for higher limits:\n",
    "# import os; os.environ[\"S2_API_KEY\"] = \"YOUR_KEY_HERE\"\n",
    "\n",
    "seed = \"10.1109/ACCESS.2021.3078549\"  # DOI, S2 paperId, or title string\n",
    "depth = 1\n",
    "since = None\n",
    "until = None\n",
    "max_nodes = 400\n",
    "page_size = 1000  # max 1000"
   ]
  },
  {
   "cell_type": "code",
   "execution_count": 86,
   "id": "369c6372",
   "metadata": {},
   "outputs": [
    {
     "ename": "HTTPError",
     "evalue": "429 Client Error:  for url: https://api.semanticscholar.org/graph/v1/paper/DOI%3A10.1109%2FACCESS.2021.3078549?fields=paperId%2Ctitle%2Cyear%2CexternalIds%2Cvenue",
     "output_type": "error",
     "traceback": [
      "\u001b[1;31m---------------------------------------------------------------------------\u001b[0m",
      "\u001b[1;31mHTTPError\u001b[0m                                 Traceback (most recent call last)",
      "Cell \u001b[1;32mIn[86], line 1\u001b[0m\n\u001b[1;32m----> 1\u001b[0m G \u001b[38;5;241m=\u001b[39m \u001b[43ms2_forward_graph\u001b[49m\u001b[43m(\u001b[49m\u001b[43mseed\u001b[49m\u001b[43m,\u001b[49m\u001b[43m \u001b[49m\u001b[43mdepth\u001b[49m\u001b[38;5;241;43m=\u001b[39;49m\u001b[43mdepth\u001b[49m\u001b[43m,\u001b[49m\u001b[43m \u001b[49m\u001b[43msince\u001b[49m\u001b[38;5;241;43m=\u001b[39;49m\u001b[43msince\u001b[49m\u001b[43m,\u001b[49m\u001b[43m \u001b[49m\u001b[43muntil\u001b[49m\u001b[38;5;241;43m=\u001b[39;49m\u001b[43muntil\u001b[49m\u001b[43m,\u001b[49m\u001b[43m \u001b[49m\u001b[43mmax_nodes\u001b[49m\u001b[38;5;241;43m=\u001b[39;49m\u001b[43mmax_nodes\u001b[49m\u001b[43m,\u001b[49m\u001b[43m \u001b[49m\u001b[43mpage_size\u001b[49m\u001b[38;5;241;43m=\u001b[39;49m\u001b[43mpage_size\u001b[49m\u001b[43m,\u001b[49m\u001b[43m \u001b[49m\u001b[43mprogress\u001b[49m\u001b[38;5;241;43m=\u001b[39;49m\u001b[38;5;28;43;01mTrue\u001b[39;49;00m\u001b[43m)\u001b[49m\n",
      "Cell \u001b[1;32mIn[83], line 11\u001b[0m, in \u001b[0;36ms2_forward_graph\u001b[1;34m(seed, depth, since, until, page_size, max_nodes, progress)\u001b[0m\n\u001b[0;32m      1\u001b[0m \u001b[38;5;28;01mdef\u001b[39;00m\u001b[38;5;250m \u001b[39m\u001b[38;5;21ms2_forward_graph\u001b[39m(seed: \u001b[38;5;28mstr\u001b[39m,\n\u001b[0;32m      2\u001b[0m                      depth: \u001b[38;5;28mint\u001b[39m \u001b[38;5;241m=\u001b[39m \u001b[38;5;241m1\u001b[39m,\n\u001b[0;32m      3\u001b[0m                      since: Optional[\u001b[38;5;28mint\u001b[39m] \u001b[38;5;241m=\u001b[39m \u001b[38;5;28;01mNone\u001b[39;00m,\n\u001b[1;32m   (...)\u001b[0m\n\u001b[0;32m      6\u001b[0m                      max_nodes: \u001b[38;5;28mint\u001b[39m \u001b[38;5;241m=\u001b[39m \u001b[38;5;241m1000\u001b[39m,\n\u001b[0;32m      7\u001b[0m                      progress: \u001b[38;5;28mbool\u001b[39m \u001b[38;5;241m=\u001b[39m \u001b[38;5;28;01mTrue\u001b[39;00m) \u001b[38;5;241m-\u001b[39m\u001b[38;5;241m>\u001b[39m nx\u001b[38;5;241m.\u001b[39mDiGraph:\n\u001b[0;32m      8\u001b[0m \u001b[38;5;250m    \u001b[39m\u001b[38;5;124;03m\"\"\"\u001b[39;00m\n\u001b[0;32m      9\u001b[0m \u001b[38;5;124;03m    DiGraph with edge A -> B meaning \"B cites A\" (forward).\u001b[39;00m\n\u001b[0;32m     10\u001b[0m \u001b[38;5;124;03m    \"\"\"\u001b[39;00m\n\u001b[1;32m---> 11\u001b[0m     seed_meta \u001b[38;5;241m=\u001b[39m \u001b[43mresolve_seed\u001b[49m\u001b[43m(\u001b[49m\u001b[43mseed\u001b[49m\u001b[43m)\u001b[49m\n\u001b[0;32m     12\u001b[0m     G \u001b[38;5;241m=\u001b[39m nx\u001b[38;5;241m.\u001b[39mDiGraph()\n\u001b[0;32m     13\u001b[0m     seen: \u001b[38;5;28mset\u001b[39m[\u001b[38;5;28mstr\u001b[39m] \u001b[38;5;241m=\u001b[39m \u001b[38;5;28mset\u001b[39m()\n",
      "Cell \u001b[1;32mIn[81], line 26\u001b[0m, in \u001b[0;36mresolve_seed\u001b[1;34m(seed)\u001b[0m\n\u001b[0;32m     24\u001b[0m \u001b[38;5;28;01mif\u001b[39;00m s\u001b[38;5;241m.\u001b[39mlower()\u001b[38;5;241m.\u001b[39mstartswith(\u001b[38;5;124m\"\u001b[39m\u001b[38;5;124m10.\u001b[39m\u001b[38;5;124m\"\u001b[39m):\n\u001b[0;32m     25\u001b[0m     pid \u001b[38;5;241m=\u001b[39m \u001b[38;5;124mf\u001b[39m\u001b[38;5;124m\"\u001b[39m\u001b[38;5;124mDOI:\u001b[39m\u001b[38;5;132;01m{\u001b[39;00ms\u001b[38;5;132;01m}\u001b[39;00m\u001b[38;5;124m\"\u001b[39m\n\u001b[1;32m---> 26\u001b[0m     \u001b[38;5;28;01mreturn\u001b[39;00m \u001b[43ms2_request\u001b[49m\u001b[43m(\u001b[49m\u001b[38;5;124;43mf\u001b[39;49m\u001b[38;5;124;43m\"\u001b[39;49m\u001b[38;5;124;43mpaper/\u001b[39;49m\u001b[38;5;132;43;01m{\u001b[39;49;00m\u001b[43mquote_plus\u001b[49m\u001b[43m(\u001b[49m\u001b[43mpid\u001b[49m\u001b[43m)\u001b[49m\u001b[38;5;132;43;01m}\u001b[39;49;00m\u001b[38;5;124;43m\"\u001b[39;49m\u001b[43m,\u001b[49m\u001b[43m \u001b[49m\u001b[43m{\u001b[49m\u001b[38;5;124;43m\"\u001b[39;49m\u001b[38;5;124;43mfields\u001b[39;49m\u001b[38;5;124;43m\"\u001b[39;49m\u001b[43m:\u001b[49m\u001b[43m \u001b[49m\u001b[43mfields\u001b[49m\u001b[43m}\u001b[49m\u001b[43m)\u001b[49m\n\u001b[0;32m     27\u001b[0m \u001b[38;5;66;03m# Looks like S2 paper id? (heuristic)\u001b[39;00m\n\u001b[0;32m     28\u001b[0m \u001b[38;5;28;01mif\u001b[39;00m \u001b[38;5;28mlen\u001b[39m(s) \u001b[38;5;241m>\u001b[39m\u001b[38;5;241m=\u001b[39m \u001b[38;5;241m10\u001b[39m \u001b[38;5;129;01mand\u001b[39;00m \u001b[38;5;124m\"\u001b[39m\u001b[38;5;124m:\u001b[39m\u001b[38;5;124m\"\u001b[39m \u001b[38;5;129;01min\u001b[39;00m s \u001b[38;5;129;01mor\u001b[39;00m \u001b[38;5;28mlen\u001b[39m(s) \u001b[38;5;241m==\u001b[39m \u001b[38;5;241m40\u001b[39m:\n",
      "Cell \u001b[1;32mIn[81], line 11\u001b[0m, in \u001b[0;36ms2_request\u001b[1;34m(path, params)\u001b[0m\n\u001b[0;32m      9\u001b[0m     time\u001b[38;5;241m.\u001b[39msleep(\u001b[38;5;28mmax\u001b[39m(S2_SLEEP_S \u001b[38;5;241m*\u001b[39m \u001b[38;5;241m4\u001b[39m, \u001b[38;5;241m2.0\u001b[39m))\n\u001b[0;32m     10\u001b[0m     r \u001b[38;5;241m=\u001b[39m requests\u001b[38;5;241m.\u001b[39mget(url, params\u001b[38;5;241m=\u001b[39mparams, headers\u001b[38;5;241m=\u001b[39mheaders, timeout\u001b[38;5;241m=\u001b[39m\u001b[38;5;241m60\u001b[39m)\n\u001b[1;32m---> 11\u001b[0m \u001b[43mr\u001b[49m\u001b[38;5;241;43m.\u001b[39;49m\u001b[43mraise_for_status\u001b[49m\u001b[43m(\u001b[49m\u001b[43m)\u001b[49m\n\u001b[0;32m     12\u001b[0m \u001b[38;5;28;01mreturn\u001b[39;00m r\u001b[38;5;241m.\u001b[39mjson()\n",
      "File \u001b[1;32m~\\AppData\\Local\\Packages\\PythonSoftwareFoundation.Python.3.12_qbz5n2kfra8p0\\LocalCache\\local-packages\\Python312\\site-packages\\requests\\models.py:1024\u001b[0m, in \u001b[0;36mResponse.raise_for_status\u001b[1;34m(self)\u001b[0m\n\u001b[0;32m   1019\u001b[0m     http_error_msg \u001b[38;5;241m=\u001b[39m (\n\u001b[0;32m   1020\u001b[0m         \u001b[38;5;124mf\u001b[39m\u001b[38;5;124m\"\u001b[39m\u001b[38;5;132;01m{\u001b[39;00m\u001b[38;5;28mself\u001b[39m\u001b[38;5;241m.\u001b[39mstatus_code\u001b[38;5;132;01m}\u001b[39;00m\u001b[38;5;124m Server Error: \u001b[39m\u001b[38;5;132;01m{\u001b[39;00mreason\u001b[38;5;132;01m}\u001b[39;00m\u001b[38;5;124m for url: \u001b[39m\u001b[38;5;132;01m{\u001b[39;00m\u001b[38;5;28mself\u001b[39m\u001b[38;5;241m.\u001b[39murl\u001b[38;5;132;01m}\u001b[39;00m\u001b[38;5;124m\"\u001b[39m\n\u001b[0;32m   1021\u001b[0m     )\n\u001b[0;32m   1023\u001b[0m \u001b[38;5;28;01mif\u001b[39;00m http_error_msg:\n\u001b[1;32m-> 1024\u001b[0m     \u001b[38;5;28;01mraise\u001b[39;00m HTTPError(http_error_msg, response\u001b[38;5;241m=\u001b[39m\u001b[38;5;28mself\u001b[39m)\n",
      "\u001b[1;31mHTTPError\u001b[0m: 429 Client Error:  for url: https://api.semanticscholar.org/graph/v1/paper/DOI%3A10.1109%2FACCESS.2021.3078549?fields=paperId%2Ctitle%2Cyear%2CexternalIds%2Cvenue"
     ]
    }
   ],
   "source": [
    "G = s2_forward_graph(seed, depth=depth, since=since, until=until, max_nodes=max_nodes, progress=True)"
   ]
  },
  {
   "cell_type": "code",
   "execution_count": null,
   "id": "33685f11",
   "metadata": {},
   "outputs": [
    {
     "data": {
      "text/html": [
       "<div>\n",
       "<style scoped>\n",
       "    .dataframe tbody tr th:only-of-type {\n",
       "        vertical-align: middle;\n",
       "    }\n",
       "\n",
       "    .dataframe tbody tr th {\n",
       "        vertical-align: top;\n",
       "    }\n",
       "\n",
       "    .dataframe thead th {\n",
       "        text-align: right;\n",
       "    }\n",
       "</style>\n",
       "<table border=\"1\" class=\"dataframe\">\n",
       "  <thead>\n",
       "    <tr style=\"text-align: right;\">\n",
       "      <th></th>\n",
       "      <th>id</th>\n",
       "      <th>title</th>\n",
       "      <th>year</th>\n",
       "      <th>doi</th>\n",
       "      <th>venue</th>\n",
       "      <th>cited_by_count</th>\n",
       "    </tr>\n",
       "  </thead>\n",
       "  <tbody>\n",
       "    <tr>\n",
       "      <th>0</th>\n",
       "      <td>dbbd634ab2ce72116a88123d1a6a6caa0ca34ab8</td>\n",
       "      <td>Internet of Things 2.0: Concepts, Applications...</td>\n",
       "      <td>2021</td>\n",
       "      <td>10.1109/ACCESS.2021.3078549</td>\n",
       "      <td>IEEE Access</td>\n",
       "      <td>None</td>\n",
       "    </tr>\n",
       "  </tbody>\n",
       "</table>\n",
       "</div>"
      ],
      "text/plain": [
       "                                         id  \\\n",
       "0  dbbd634ab2ce72116a88123d1a6a6caa0ca34ab8   \n",
       "\n",
       "                                               title  year  \\\n",
       "0  Internet of Things 2.0: Concepts, Applications...  2021   \n",
       "\n",
       "                           doi        venue cited_by_count  \n",
       "0  10.1109/ACCESS.2021.3078549  IEEE Access           None  "
      ]
     },
     "metadata": {},
     "output_type": "display_data"
    },
    {
     "data": {
      "text/html": [
       "<div>\n",
       "<style scoped>\n",
       "    .dataframe tbody tr th:only-of-type {\n",
       "        vertical-align: middle;\n",
       "    }\n",
       "\n",
       "    .dataframe tbody tr th {\n",
       "        vertical-align: top;\n",
       "    }\n",
       "\n",
       "    .dataframe thead th {\n",
       "        text-align: right;\n",
       "    }\n",
       "</style>\n",
       "<table border=\"1\" class=\"dataframe\">\n",
       "  <thead>\n",
       "    <tr style=\"text-align: right;\">\n",
       "      <th></th>\n",
       "    </tr>\n",
       "  </thead>\n",
       "  <tbody>\n",
       "  </tbody>\n",
       "</table>\n",
       "</div>"
      ],
      "text/plain": [
       "Empty DataFrame\n",
       "Columns: []\n",
       "Index: []"
      ]
     },
     "metadata": {},
     "output_type": "display_data"
    },
    {
     "name": "stdout",
     "output_type": "stream",
     "text": [
      "Nodes: 1 Edges: 0\n"
     ]
    }
   ],
   "source": [
    "nodes_df, edges_df = graph_to_dfs(G)\n",
    "display(nodes_df.head())\n",
    "display(edges_df.head())\n",
    "print(\"Nodes:\", G.number_of_nodes(), \"Edges:\", G.number_of_edges())"
   ]
  },
  {
   "cell_type": "code",
   "execution_count": null,
   "id": "02bef475",
   "metadata": {},
   "outputs": [
    {
     "name": "stdout",
     "output_type": "stream",
     "text": [
      "Saved: s2_forward_nodes.csv, s2_forward_edges.csv, s2_forward.gexf\n"
     ]
    }
   ],
   "source": [
    "# save\n",
    "save_graph(G, prefix=\"s2_forward\")"
   ]
  },
  {
   "cell_type": "markdown",
   "id": "459dfbb2",
   "metadata": {},
   "source": [
    "# Visualize\n"
   ]
  },
  {
   "cell_type": "code",
   "execution_count": null,
   "id": "ec79ca87",
   "metadata": {},
   "outputs": [
    {
     "name": "stdout",
     "output_type": "stream",
     "text": [
      "Warning: When  cdn_resources is 'local' jupyter notebook has issues displaying graphics on chrome/safari. Use cdn_resources='in_line' or cdn_resources='remote' if you have issues viewing graphics in a notebook.\n",
      "s2_forward_title_labels.html\n"
     ]
    }
   ],
   "source": [
    "from pyvis.network import Network\n",
    "import math\n",
    "import html\n",
    "\n",
    "net = Network(height=\"750px\", width=\"100%\", notebook=True, directed=True)\n",
    "# different layouts\n",
    "net.force_atlas_2based()\n",
    "# Make node selection clearer, by changing border width and color\n",
    "net.selection = {\"nodes\": {\"borderWidth\": 3, \"borderWidthSelected\": 5}}\n",
    "# net.selection_menu = True\n",
    "# net.toggle_physics(False)\n",
    "\n",
    "def short(s, n=60):\n",
    "    s = s or \"(no title)\"\n",
    "    return s if len(s) <= n else s[:n-1] + \"…\"\n",
    "\n",
    "for nid, data in G.nodes(data=True):\n",
    "    title = data.get(\"title\") or \"(no title)\"\n",
    "    year  = data.get(\"year\") or \"?\"\n",
    "    doi   = data.get(\"doi\") or \"\"\n",
    "    size  = 5 + 2*math.sqrt((data.get(\"cited_by_count\") or 0))\n",
    "\n",
    "    # Show the (possibly truncated) title ON the node:\n",
    "    label = short(title, n=42)  # adjust length to taste\n",
    "\n",
    "    # Show full details ON HOVER:\n",
    "    tooltip = (\n",
    "        f\"{html.escape(title)} ({year})\"\n",
    "        + (f\"<br>DOI: {html.escape(doi)}\" if doi else \"\")\n",
    "    )\n",
    "\n",
    "    net.add_node(\n",
    "        nid,\n",
    "        label=label,      # what you see on the node\n",
    "        title=tooltip,    # hover text (HTML allowed)\n",
    "        value=size\n",
    "    )\n",
    "\n",
    "for u, v in G.edges():\n",
    "    net.add_edge(u, v, arrows=\"to\")\n",
    "\n",
    "net.show(\"s2_forward_title_labels.html\", notebook=False)   # opens in notebook; also saves the file\n"
   ]
  }
 ],
 "metadata": {
  "kernelspec": {
   "display_name": "Python 3",
   "language": "python",
   "name": "python3"
  },
  "language_info": {
   "codemirror_mode": {
    "name": "ipython",
    "version": 3
   },
   "file_extension": ".py",
   "mimetype": "text/x-python",
   "name": "python",
   "nbconvert_exporter": "python",
   "pygments_lexer": "ipython3",
   "version": "3.12.10"
  }
 },
 "nbformat": 4,
 "nbformat_minor": 5
}
